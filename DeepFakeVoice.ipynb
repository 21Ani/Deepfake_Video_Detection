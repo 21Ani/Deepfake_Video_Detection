{
  "nbformat": 4,
  "nbformat_minor": 0,
  "metadata": {
    "colab": {
      "provenance": [],
      "gpuType": "T4"
    },
    "kernelspec": {
      "name": "python3",
      "display_name": "Python 3"
    },
    "language_info": {
      "name": "python"
    },
    "accelerator": "GPU"
  },
  "cells": [
    {
      "cell_type": "code",
      "execution_count": null,
      "metadata": {
        "id": "zaTl-JJpVqio"
      },
      "outputs": [],
      "source": [
        "import torch\n",
        "from torch import nn\n",
        "from torch.optim import Adam\n",
        "import librosa\n",
        "from torch.utils.data import Dataset,DataLoader\n",
        "from sklearn.preprocessing import LabelEncoder\n",
        "import matplotlib.pyplot as plt\n",
        "import numpy as np\n",
        "import os\n",
        "import pandas as pd\n",
        "import time\n",
        "from skimage.transform import resize"
      ]
    },
    {
      "cell_type": "code",
      "source": [
        "device=\"cuda\" if torch.cuda.is_available() else \"cpu\"\n",
        "device"
      ],
      "metadata": {
        "colab": {
          "base_uri": "https://localhost:8080/",
          "height": 36
        },
        "id": "bdeZYyRLWm7G",
        "outputId": "de197348-e90b-42a0-b15b-45d515a6d987"
      },
      "execution_count": null,
      "outputs": [
        {
          "output_type": "execute_result",
          "data": {
            "text/plain": [
              "'cuda'"
            ],
            "application/vnd.google.colaboratory.intrinsic+json": {
              "type": "string"
            }
          },
          "metadata": {},
          "execution_count": 3
        }
      ]
    },
    {
      "cell_type": "code",
      "source": [
        "import os\n",
        "import pandas as pd"
      ],
      "metadata": {
        "id": "AIF4fWD8WnFW"
      },
      "execution_count": null,
      "outputs": []
    },
    {
      "cell_type": "code",
      "source": [
        "from google.colab import drive\n",
        "drive.mount('/content/drive')"
      ],
      "metadata": {
        "colab": {
          "base_uri": "https://localhost:8080/"
        },
        "id": "MCrqgpg0WnIA",
        "outputId": "0878047a-ac1a-4194-df93-bf2805dcc213"
      },
      "execution_count": null,
      "outputs": [
        {
          "output_type": "stream",
          "name": "stdout",
          "text": [
            "Mounted at /content/drive\n"
          ]
        }
      ]
    },
    {
      "cell_type": "code",
      "source": [
        "data_path = '/content/drive/MyDrive/data23'\n",
        "\n",
        "\n",
        "audio_urls = []\n",
        "labels = []"
      ],
      "metadata": {
        "id": "CJof4n8zWnKl"
      },
      "execution_count": null,
      "outputs": []
    },
    {
      "cell_type": "code",
      "source": [
        "for label in ['real', 'fake']:\n",
        "    folder_path = os.path.join(data_path, label)\n",
        "    for filename in os.listdir(folder_path):\n",
        "        if filename.endswith('.wav'):\n",
        "            file_path = os.path.join(folder_path, filename)\n",
        "            audio_urls.append(file_path)\n",
        "            labels.append(label)"
      ],
      "metadata": {
        "id": "ofBLvbAIWnNL"
      },
      "execution_count": null,
      "outputs": []
    },
    {
      "cell_type": "code",
      "source": [
        "print(\"Top 5 audio file paths:\")\n",
        "print(audio_urls[:5])\n",
        "\n",
        "print(\"\\nTop 5 labels:\")\n",
        "print(labels[:5])\n"
      ],
      "metadata": {
        "colab": {
          "base_uri": "https://localhost:8080/"
        },
        "id": "BzBOZAWFWnP6",
        "outputId": "4eccb23d-df15-4a75-b54e-d988da6ca391"
      },
      "execution_count": null,
      "outputs": [
        {
          "output_type": "stream",
          "name": "stdout",
          "text": [
            "Top 5 audio file paths:\n",
            "['/content/drive/MyDrive/data23/real/file1071.wav_16k.wav_norm.wav_mono.wav_silence.wav_2sec.wav', '/content/drive/MyDrive/data23/real/file1102.wav_16k.wav_norm.wav_mono.wav_silence.wav_2sec.wav', '/content/drive/MyDrive/data23/real/file1036.wav_16k.wav_norm.wav_mono.wav_silence.wav_2sec.wav', '/content/drive/MyDrive/data23/real/file1029.wav_16k.wav_norm.wav_mono.wav_silence.wav_2sec.wav', '/content/drive/MyDrive/data23/real/file1100.wav_16k.wav_norm.wav_mono.wav_silence.wav_2sec.wav']\n",
            "\n",
            "Top 5 labels:\n",
            "['real', 'real', 'real', 'real', 'real']\n"
          ]
        }
      ]
    },
    {
      "cell_type": "code",
      "source": [
        "df = pd.DataFrame({\n",
        "    'url': audio_urls,\n",
        "    'label': labels\n",
        "})\n",
        "\n",
        "\n",
        "print(df.head())"
      ],
      "metadata": {
        "colab": {
          "base_uri": "https://localhost:8080/"
        },
        "id": "p9gKaH3mWnSY",
        "outputId": "20c532ab-2db4-427f-98df-a9af60bc6150"
      },
      "execution_count": null,
      "outputs": [
        {
          "output_type": "stream",
          "name": "stdout",
          "text": [
            "                                                 url label\n",
            "0  /content/drive/MyDrive/data23/real/file1071.wa...  real\n",
            "1  /content/drive/MyDrive/data23/real/file1102.wa...  real\n",
            "2  /content/drive/MyDrive/data23/real/file1036.wa...  real\n",
            "3  /content/drive/MyDrive/data23/real/file1029.wa...  real\n",
            "4  /content/drive/MyDrive/data23/real/file1100.wa...  real\n"
          ]
        }
      ]
    },
    {
      "cell_type": "code",
      "source": [
        "df = df.sample(frac=1).reset_index(drop=True)\n"
      ],
      "metadata": {
        "id": "frsvC5gFbgbe"
      },
      "execution_count": null,
      "outputs": []
    },
    {
      "cell_type": "code",
      "source": [
        "print(len(df))"
      ],
      "metadata": {
        "colab": {
          "base_uri": "https://localhost:8080/"
        },
        "id": "MMSe7kVfahQY",
        "outputId": "07801bbf-d84e-4977-fc26-e16c789e9ab0"
      },
      "execution_count": null,
      "outputs": [
        {
          "output_type": "stream",
          "name": "stdout",
          "text": [
            "820\n"
          ]
        }
      ]
    },
    {
      "cell_type": "code",
      "source": [
        "print(\"\\nUnique labels in the dataset:\")\n",
        "print(df['label'].unique())"
      ],
      "metadata": {
        "colab": {
          "base_uri": "https://localhost:8080/"
        },
        "id": "alFAkvmyahVz",
        "outputId": "02e64464-f93e-4491-9c57-65dc2332fe81"
      },
      "execution_count": null,
      "outputs": [
        {
          "output_type": "stream",
          "name": "stdout",
          "text": [
            "\n",
            "Unique labels in the dataset:\n",
            "['fake' 'real']\n"
          ]
        }
      ]
    },
    {
      "cell_type": "code",
      "source": [
        "print(df.iloc[0])\n",
        "\n",
        "print(\"URL:\", df.iloc[0]['url'])\n",
        "print(\"Label:\", df.iloc[0]['label'])\n",
        "\n",
        "print(\"Data Shape:\",df.shape)\n",
        "print(\"Class Distribution:\",df[\"label\"].value_counts())"
      ],
      "metadata": {
        "colab": {
          "base_uri": "https://localhost:8080/"
        },
        "id": "En6NSqL8ahW5",
        "outputId": "13774c3c-a7f9-4eb6-cd50-8debed7a1c51"
      },
      "execution_count": null,
      "outputs": [
        {
          "output_type": "stream",
          "name": "stdout",
          "text": [
            "url      /content/drive/MyDrive/data23/fake/file833.mp3...\n",
            "label                                                 fake\n",
            "Name: 0, dtype: object\n",
            "URL: /content/drive/MyDrive/data23/fake/file833.mp3.wav_16k.wav_norm.wav_mono.wav_silence.wav_2sec.wav\n",
            "Label: fake\n",
            "Data Shape: (820, 2)\n",
            "Class Distribution: label\n",
            "real    411\n",
            "fake    409\n",
            "Name: count, dtype: int64\n"
          ]
        }
      ]
    },
    {
      "cell_type": "code",
      "source": [
        "plt.figure(figsize=(10, 6))\n",
        "df['label'].value_counts().plot(kind='bar')\n",
        "plt.title('Class Distribution')\n",
        "plt.xlabel('Class')\n",
        "plt.ylabel('Count')\n",
        "plt.show()"
      ],
      "metadata": {
        "colab": {
          "base_uri": "https://localhost:8080/",
          "height": 580
        },
        "collapsed": true,
        "id": "j_UbOlSqahZL",
        "outputId": "4d24f03c-606d-4f5f-990f-dc97c8fb6c18"
      },
      "execution_count": null,
      "outputs": [
        {
          "output_type": "display_data",
          "data": {
            "text/plain": [
              "<Figure size 1000x600 with 1 Axes>"
            ],
            "image/png": "[encoded data removed]"
          },
          "metadata": {}
        }
      ]
    },
    {
      "cell_type": "code",
      "source": [
        "df.head()"
      ],
      "metadata": {
        "colab": {
          "base_uri": "https://localhost:8080/",
          "height": 206
        },
        "collapsed": true,
        "id": "G6sf6Y5abGb2",
        "outputId": "49b1482a-3c43-43f8-c3b5-a78d4603d821"
      },
      "execution_count": null,
      "outputs": [
        {
          "output_type": "execute_result",
          "data": {
            "text/plain": [
              "                                                 url label\n",
              "0  /content/drive/MyDrive/data23/fake/file833.mp3...  fake\n",
              "1  /content/drive/MyDrive/data23/real/file1751.wa...  real\n",
              "2  /content/drive/MyDrive/data23/fake/file1889.mp...  fake\n",
              "3  /content/drive/MyDrive/data23/fake/file1468.mp...  fake\n",
              "4  /content/drive/MyDrive/data23/real/file1508.wa...  real"
            ],
            "text/html": [
              "\n",
              "  <div id=\"df-e716f915-6f30-4538-8b57-a073386b9374\" class=\"colab-df-container\">\n",
              "    <div>\n",
              "<style scoped>\n",
              "    .dataframe tbody tr th:only-of-type {\n",
              "        vertical-align: middle;\n",
              "    }\n",
              "\n",
              "    .dataframe tbody tr th {\n",
              "        vertical-align: top;\n",
              "    }\n",
              "\n",
              "    .dataframe thead th {\n",
              "        text-align: right;\n",
              "    }\n",
              "</style>\n",
              "<table border=\"1\" class=\"dataframe\">\n",
              "  <thead>\n",
              "    <tr style=\"text-align: right;\">\n",
              "      <th></th>\n",
              "      <th>url</th>\n",
              "      <th>label</th>\n",
              "    </tr>\n",
              "  </thead>\n",
              "  <tbody>\n",
              "    <tr>\n",
              "      <th>0</th>\n",
              "      <td>/content/drive/MyDrive/data23/fake/file833.mp3...</td>\n",
              "      <td>fake</td>\n",
              "    </tr>\n",
              "    <tr>\n",
              "      <th>1</th>\n",
              "      <td>/content/drive/MyDrive/data23/real/file1751.wa...</td>\n",
              "      <td>real</td>\n",
              "    </tr>\n",
              "    <tr>\n",
              "      <th>2</th>\n",
              "      <td>/content/drive/MyDrive/data23/fake/file1889.mp...</td>\n",
              "      <td>fake</td>\n",
              "    </tr>\n",
              "    <tr>\n",
              "      <th>3</th>\n",
              "      <td>/content/drive/MyDrive/data23/fake/file1468.mp...</td>\n",
              "      <td>fake</td>\n",
              "    </tr>\n",
              "    <tr>\n",
              "      <th>4</th>\n",
              "      <td>/content/drive/MyDrive/data23/real/file1508.wa...</td>\n",
              "      <td>real</td>\n",
              "    </tr>\n",
              "  </tbody>\n",
              "</table>\n",
              "</div>\n",
              "    <div class=\"colab-df-buttons\">\n",
              "\n",
              "  <div class=\"colab-df-container\">\n",
              "    <button class=\"colab-df-convert\" onclick=\"convertToInteractive('df-e716f915-6f30-4538-8b57-a073386b9374')\"\n",
              "            title=\"Convert this dataframe to an interactive table.\"\n",
              "            style=\"display:none;\">\n",
              "\n",
              "  <svg xmlns=\"http://www.w3.org/2000/svg\" height=\"24px\" viewBox=\"0 -960 960 960\">\n",
              "    <path d=\"M120-120v-720h720v720H120Zm60-500h600v-160H180v160Zm220 220h160v-160H400v160Zm0 220h160v-160H400v160ZM180-400h160v-160H180v160Zm440 0h160v-160H620v160ZM180-180h160v-160H180v160Zm440 0h160v-160H620v160Z\"/>\n",
              "  </svg>\n",
              "    </button>\n",
              "\n",
              "  <style>\n",
              "    .colab-df-container {\n",
              "      display:flex;\n",
              "      gap: 12px;\n",
              "    }\n",
              "\n",
              "    .colab-df-convert {\n",
              "      background-color: #E8F0FE;\n",
              "      border: none;\n",
              "      border-radius: 50%;\n",
              "      cursor: pointer;\n",
              "      display: none;\n",
              "      fill: #1967D2;\n",
              "      height: 32px;\n",
              "      padding: 0 0 0 0;\n",
              "      width: 32px;\n",
              "    }\n",
              "\n",
              "    .colab-df-convert:hover {\n",
              "      background-color: #E2EBFA;\n",
              "      box-shadow: 0px 1px 2px rgba(60, 64, 67, 0.3), 0px 1px 3px 1px rgba(60, 64, 67, 0.15);\n",
              "      fill: #174EA6;\n",
              "    }\n",
              "\n",
              "    .colab-df-buttons div {\n",
              "      margin-bottom: 4px;\n",
              "    }\n",
              "\n",
              "    [theme=dark] .colab-df-convert {\n",
              "      background-color: #3B4455;\n",
              "      fill: #D2E3FC;\n",
              "    }\n",
              "\n",
              "    [theme=dark] .colab-df-convert:hover {\n",
              "      background-color: #434B5C;\n",
              "      box-shadow: 0px 1px 3px 1px rgba(0, 0, 0, 0.15);\n",
              "      filter: drop-shadow(0px 1px 2px rgba(0, 0, 0, 0.3));\n",
              "      fill: #FFFFFF;\n",
              "    }\n",
              "  </style>\n",
              "\n",
              "    <script>\n",
              "      const buttonEl =\n",
              "        document.querySelector('#df-e716f915-6f30-4538-8b57-a073386b9374 button.colab-df-convert');\n",
              "      buttonEl.style.display =\n",
              "        google.colab.kernel.accessAllowed ? 'block' : 'none';\n",
              "\n",
              "      async function convertToInteractive(key) {\n",
              "        const element = document.querySelector('#df-e716f915-6f30-4538-8b57-a073386b9374');\n",
              "        const dataTable =\n",
              "          await google.colab.kernel.invokeFunction('convertToInteractive',\n",
              "                                                    [key], {});\n",
              "        if (!dataTable) return;\n",
              "\n",
              "        const docLinkHtml = 'Like what you see? Visit the ' +\n",
              "          '<a target=\"_blank\" href=https://colab.research.google.com/notebooks/data_table.ipynb>data table notebook</a>'\n",
              "          + ' to learn more about interactive tables.';\n",
              "        element.innerHTML = '';\n",
              "        dataTable['output_type'] = 'display_data';\n",
              "        await google.colab.output.renderOutput(dataTable, element);\n",
              "        const docLink = document.createElement('div');\n",
              "        docLink.innerHTML = docLinkHtml;\n",
              "        element.appendChild(docLink);\n",
              "      }\n",
              "    </script>\n",
              "  </div>\n",
              "\n",
              "\n",
              "    <div id=\"df-452e956b-cdb4-4420-951b-2f807b06e784\">\n",
              "      <button class=\"colab-df-quickchart\" onclick=\"quickchart('df-452e956b-cdb4-4420-951b-2f807b06e784')\"\n",
              "                title=\"Suggest charts\"\n",
              "                style=\"display:none;\">\n",
              "\n",
              "<svg xmlns=\"http://www.w3.org/2000/svg\" height=\"24px\"viewBox=\"0 0 24 24\"\n",
              "     width=\"24px\">\n",
              "    <g>\n",
              "        <path d=\"M19 3H5c-1.1 0-2 .9-2 2v14c0 1.1.9 2 2 2h14c1.1 0 2-.9 2-2V5c0-1.1-.9-2-2-2zM9 17H7v-7h2v7zm4 0h-2V7h2v10zm4 0h-2v-4h2v4z\"/>\n",
              "    </g>\n",
              "</svg>\n",
              "      </button>\n",
              "\n",
              "<style>\n",
              "  .colab-df-quickchart {\n",
              "      --bg-color: #E8F0FE;\n",
              "      --fill-color: #1967D2;\n",
              "      --hover-bg-color: #E2EBFA;\n",
              "      --hover-fill-color: #174EA6;\n",
              "      --disabled-fill-color: #AAA;\n",
              "      --disabled-bg-color: #DDD;\n",
              "  }\n",
              "\n",
              "  [theme=dark] .colab-df-quickchart {\n",
              "      --bg-color: #3B4455;\n",
              "      --fill-color: #D2E3FC;\n",
              "      --hover-bg-color: #434B5C;\n",
              "      --hover-fill-color: #FFFFFF;\n",
              "      --disabled-bg-color: #3B4455;\n",
              "      --disabled-fill-color: #666;\n",
              "  }\n",
              "\n",
              "  .colab-df-quickchart {\n",
              "    background-color: var(--bg-color);\n",
              "    border: none;\n",
              "    border-radius: 50%;\n",
              "    cursor: pointer;\n",
              "    display: none;\n",
              "    fill: var(--fill-color);\n",
              "    height: 32px;\n",
              "    padding: 0;\n",
              "    width: 32px;\n",
              "  }\n",
              "\n",
              "  .colab-df-quickchart:hover {\n",
              "    background-color: var(--hover-bg-color);\n",
              "    box-shadow: 0 1px 2px rgba(60, 64, 67, 0.3), 0 1px 3px 1px rgba(60, 64, 67, 0.15);\n",
              "    fill: var(--button-hover-fill-color);\n",
              "  }\n",
              "\n",
              "  .colab-df-quickchart-complete:disabled,\n",
              "  .colab-df-quickchart-complete:disabled:hover {\n",
              "    background-color: var(--disabled-bg-color);\n",
              "    fill: var(--disabled-fill-color);\n",
              "    box-shadow: none;\n",
              "  }\n",
              "\n",
              "  .colab-df-spinner {\n",
              "    border: 2px solid var(--fill-color);\n",
              "    border-color: transparent;\n",
              "    border-bottom-color: var(--fill-color);\n",
              "    animation:\n",
              "      spin 1s steps(1) infinite;\n",
              "  }\n",
              "\n",
              "  @keyframes spin {\n",
              "    0% {\n",
              "      border-color: transparent;\n",
              "      border-bottom-color: var(--fill-color);\n",
              "      border-left-color: var(--fill-color);\n",
              "    }\n",
              "    20% {\n",
              "      border-color: transparent;\n",
              "      border-left-color: var(--fill-color);\n",
              "      border-top-color: var(--fill-color);\n",
              "    }\n",
              "    30% {\n",
              "      border-color: transparent;\n",
              "      border-left-color: var(--fill-color);\n",
              "      border-top-color: var(--fill-color);\n",
              "      border-right-color: var(--fill-color);\n",
              "    }\n",
              "    40% {\n",
              "      border-color: transparent;\n",
              "      border-right-color: var(--fill-color);\n",
              "      border-top-color: var(--fill-color);\n",
              "    }\n",
              "    60% {\n",
              "      border-color: transparent;\n",
              "      border-right-color: var(--fill-color);\n",
              "    }\n",
              "    80% {\n",
              "      border-color: transparent;\n",
              "      border-right-color: var(--fill-color);\n",
              "      border-bottom-color: var(--fill-color);\n",
              "    }\n",
              "    90% {\n",
              "      border-color: transparent;\n",
              "      border-bottom-color: var(--fill-color);\n",
              "    }\n",
              "  }\n",
              "</style>\n",
              "\n",
              "      <script>\n",
              "        async function quickchart(key) {\n",
              "          const quickchartButtonEl =\n",
              "            document.querySelector('#' + key + ' button');\n",
              "          quickchartButtonEl.disabled = true;  // To prevent multiple clicks.\n",
              "          quickchartButtonEl.classList.add('colab-df-spinner');\n",
              "          try {\n",
              "            const charts = await google.colab.kernel.invokeFunction(\n",
              "                'suggestCharts', [key], {});\n",
              "          } catch (error) {\n",
              "            console.error('Error during call to suggestCharts:', error);\n",
              "          }\n",
              "          quickchartButtonEl.classList.remove('colab-df-spinner');\n",
              "          quickchartButtonEl.classList.add('colab-df-quickchart-complete');\n",
              "        }\n",
              "        (() => {\n",
              "          let quickchartButtonEl =\n",
              "            document.querySelector('#df-452e956b-cdb4-4420-951b-2f807b06e784 button');\n",
              "          quickchartButtonEl.style.display =\n",
              "            google.colab.kernel.accessAllowed ? 'block' : 'none';\n",
              "        })();\n",
              "      </script>\n",
              "    </div>\n",
              "\n",
              "    </div>\n",
              "  </div>\n"
            ],
            "application/vnd.google.colaboratory.intrinsic+json": {
              "type": "dataframe",
              "variable_name": "df",
              "summary": "{\n  \"name\": \"df\",\n  \"rows\": 820,\n  \"fields\": [\n    {\n      \"column\": \"url\",\n      \"properties\": {\n        \"dtype\": \"string\",\n        \"num_unique_values\": 820,\n        \"samples\": [\n          \"/content/drive/MyDrive/data23/real/file1053.wav_16k.wav_norm.wav_mono.wav_silence.wav_2sec.wav\",\n          \"/content/drive/MyDrive/data23/fake/file1990.mp3.wav_16k.wav_norm.wav_mono.wav_silence.wav_2sec.wav\",\n          \"/content/drive/MyDrive/data23/fake/file1456.mp3.wav_16k.wav_norm.wav_mono.wav_silence.wav_2sec.wav\"\n        ],\n        \"semantic_type\": \"\",\n        \"description\": \"\"\n      }\n    },\n    {\n      \"column\": \"label\",\n      \"properties\": {\n        \"dtype\": \"category\",\n        \"num_unique_values\": 2,\n        \"samples\": [\n          \"real\",\n          \"fake\"\n        ],\n        \"semantic_type\": \"\",\n        \"description\": \"\"\n      }\n    }\n  ]\n}"
            }
          },
          "metadata": {},
          "execution_count": 15
        }
      ]
    },
    {
      "cell_type": "code",
      "source": [
        "label_encoder = LabelEncoder()\n",
        "df[\"label\"] = label_encoder.fit_transform(df['label'])\n"
      ],
      "metadata": {
        "id": "FEBCvg6hbGfT"
      },
      "execution_count": null,
      "outputs": []
    },
    {
      "cell_type": "code",
      "source": [
        "df.head()"
      ],
      "metadata": {
        "collapsed": true,
        "colab": {
          "base_uri": "https://localhost:8080/",
          "height": 206
        },
        "id": "3ItqoAb1bsnI",
        "outputId": "0833aabc-fc3d-4d87-816a-1a3520b64b53"
      },
      "execution_count": null,
      "outputs": [
        {
          "output_type": "execute_result",
          "data": {
            "text/plain": [
              "                                                 url  label\n",
              "0  /content/drive/MyDrive/data23/fake/file833.mp3...      0\n",
              "1  /content/drive/MyDrive/data23/real/file1751.wa...      1\n",
              "2  /content/drive/MyDrive/data23/fake/file1889.mp...      0\n",
              "3  /content/drive/MyDrive/data23/fake/file1468.mp...      0\n",
              "4  /content/drive/MyDrive/data23/real/file1508.wa...      1"
            ],
            "text/html": [
              "\n",
              "  <div id=\"df-9f0bf5e7-f14e-4e3e-9707-cc83a706cc6c\" class=\"colab-df-container\">\n",
              "    <div>\n",
              "<style scoped>\n",
              "    .dataframe tbody tr th:only-of-type {\n",
              "        vertical-align: middle;\n",
              "    }\n",
              "\n",
              "    .dataframe tbody tr th {\n",
              "        vertical-align: top;\n",
              "    }\n",
              "\n",
              "    .dataframe thead th {\n",
              "        text-align: right;\n",
              "    }\n",
              "</style>\n",
              "<table border=\"1\" class=\"dataframe\">\n",
              "  <thead>\n",
              "    <tr style=\"text-align: right;\">\n",
              "      <th></th>\n",
              "      <th>url</th>\n",
              "      <th>label</th>\n",
              "    </tr>\n",
              "  </thead>\n",
              "  <tbody>\n",
              "    <tr>\n",
              "      <th>0</th>\n",
              "      <td>/content/drive/MyDrive/data23/fake/file833.mp3...</td>\n",
              "      <td>0</td>\n",
              "    </tr>\n",
              "    <tr>\n",
              "      <th>1</th>\n",
              "      <td>/content/drive/MyDrive/data23/real/file1751.wa...</td>\n",
              "      <td>1</td>\n",
              "    </tr>\n",
              "    <tr>\n",
              "      <th>2</th>\n",
              "      <td>/content/drive/MyDrive/data23/fake/file1889.mp...</td>\n",
              "      <td>0</td>\n",
              "    </tr>\n",
              "    <tr>\n",
              "      <th>3</th>\n",
              "      <td>/content/drive/MyDrive/data23/fake/file1468.mp...</td>\n",
              "      <td>0</td>\n",
              "    </tr>\n",
              "    <tr>\n",
              "      <th>4</th>\n",
              "      <td>/content/drive/MyDrive/data23/real/file1508.wa...</td>\n",
              "      <td>1</td>\n",
              "    </tr>\n",
              "  </tbody>\n",
              "</table>\n",
              "</div>\n",
              "    <div class=\"colab-df-buttons\">\n",
              "\n",
              "  <div class=\"colab-df-container\">\n",
              "    <button class=\"colab-df-convert\" onclick=\"convertToInteractive('df-9f0bf5e7-f14e-4e3e-9707-cc83a706cc6c')\"\n",
              "            title=\"Convert this dataframe to an interactive table.\"\n",
              "            style=\"display:none;\">\n",
              "\n",
              "  <svg xmlns=\"http://www.w3.org/2000/svg\" height=\"24px\" viewBox=\"0 -960 960 960\">\n",
              "    <path d=\"M120-120v-720h720v720H120Zm60-500h600v-160H180v160Zm220 220h160v-160H400v160Zm0 220h160v-160H400v160ZM180-400h160v-160H180v160Zm440 0h160v-160H620v160ZM180-180h160v-160H180v160Zm440 0h160v-160H620v160Z\"/>\n",
              "  </svg>\n",
              "    </button>\n",
              "\n",
              "  <style>\n",
              "    .colab-df-container {\n",
              "      display:flex;\n",
              "      gap: 12px;\n",
              "    }\n",
              "\n",
              "    .colab-df-convert {\n",
              "      background-color: #E8F0FE;\n",
              "      border: none;\n",
              "      border-radius: 50%;\n",
              "      cursor: pointer;\n",
              "      display: none;\n",
              "      fill: #1967D2;\n",
              "      height: 32px;\n",
              "      padding: 0 0 0 0;\n",
              "      width: 32px;\n",
              "    }\n",
              "\n",
              "    .colab-df-convert:hover {\n",
              "      background-color: #E2EBFA;\n",
              "      box-shadow: 0px 1px 2px rgba(60, 64, 67, 0.3), 0px 1px 3px 1px rgba(60, 64, 67, 0.15);\n",
              "      fill: #174EA6;\n",
              "    }\n",
              "\n",
              "    .colab-df-buttons div {\n",
              "      margin-bottom: 4px;\n",
              "    }\n",
              "\n",
              "    [theme=dark] .colab-df-convert {\n",
              "      background-color: #3B4455;\n",
              "      fill: #D2E3FC;\n",
              "    }\n",
              "\n",
              "    [theme=dark] .colab-df-convert:hover {\n",
              "      background-color: #434B5C;\n",
              "      box-shadow: 0px 1px 3px 1px rgba(0, 0, 0, 0.15);\n",
              "      filter: drop-shadow(0px 1px 2px rgba(0, 0, 0, 0.3));\n",
              "      fill: #FFFFFF;\n",
              "    }\n",
              "  </style>\n",
              "\n",
              "    <script>\n",
              "      const buttonEl =\n",
              "        document.querySelector('#df-9f0bf5e7-f14e-4e3e-9707-cc83a706cc6c button.colab-df-convert');\n",
              "      buttonEl.style.display =\n",
              "        google.colab.kernel.accessAllowed ? 'block' : 'none';\n",
              "\n",
              "      async function convertToInteractive(key) {\n",
              "        const element = document.querySelector('#df-9f0bf5e7-f14e-4e3e-9707-cc83a706cc6c');\n",
              "        const dataTable =\n",
              "          await google.colab.kernel.invokeFunction('convertToInteractive',\n",
              "                                                    [key], {});\n",
              "        if (!dataTable) return;\n",
              "\n",
              "        const docLinkHtml = 'Like what you see? Visit the ' +\n",
              "          '<a target=\"_blank\" href=https://colab.research.google.com/notebooks/data_table.ipynb>data table notebook</a>'\n",
              "          + ' to learn more about interactive tables.';\n",
              "        element.innerHTML = '';\n",
              "        dataTable['output_type'] = 'display_data';\n",
              "        await google.colab.output.renderOutput(dataTable, element);\n",
              "        const docLink = document.createElement('div');\n",
              "        docLink.innerHTML = docLinkHtml;\n",
              "        element.appendChild(docLink);\n",
              "      }\n",
              "    </script>\n",
              "  </div>\n",
              "\n",
              "\n",
              "    <div id=\"df-d3268f56-f5c5-4001-972d-310b51152557\">\n",
              "      <button class=\"colab-df-quickchart\" onclick=\"quickchart('df-d3268f56-f5c5-4001-972d-310b51152557')\"\n",
              "                title=\"Suggest charts\"\n",
              "                style=\"display:none;\">\n",
              "\n",
              "<svg xmlns=\"http://www.w3.org/2000/svg\" height=\"24px\"viewBox=\"0 0 24 24\"\n",
              "     width=\"24px\">\n",
              "    <g>\n",
              "        <path d=\"M19 3H5c-1.1 0-2 .9-2 2v14c0 1.1.9 2 2 2h14c1.1 0 2-.9 2-2V5c0-1.1-.9-2-2-2zM9 17H7v-7h2v7zm4 0h-2V7h2v10zm4 0h-2v-4h2v4z\"/>\n",
              "    </g>\n",
              "</svg>\n",
              "      </button>\n",
              "\n",
              "<style>\n",
              "  .colab-df-quickchart {\n",
              "      --bg-color: #E8F0FE;\n",
              "      --fill-color: #1967D2;\n",
              "      --hover-bg-color: #E2EBFA;\n",
              "      --hover-fill-color: #174EA6;\n",
              "      --disabled-fill-color: #AAA;\n",
              "      --disabled-bg-color: #DDD;\n",
              "  }\n",
              "\n",
              "  [theme=dark] .colab-df-quickchart {\n",
              "      --bg-color: #3B4455;\n",
              "      --fill-color: #D2E3FC;\n",
              "      --hover-bg-color: #434B5C;\n",
              "      --hover-fill-color: #FFFFFF;\n",
              "      --disabled-bg-color: #3B4455;\n",
              "      --disabled-fill-color: #666;\n",
              "  }\n",
              "\n",
              "  .colab-df-quickchart {\n",
              "    background-color: var(--bg-color);\n",
              "    border: none;\n",
              "    border-radius: 50%;\n",
              "    cursor: pointer;\n",
              "    display: none;\n",
              "    fill: var(--fill-color);\n",
              "    height: 32px;\n",
              "    padding: 0;\n",
              "    width: 32px;\n",
              "  }\n",
              "\n",
              "  .colab-df-quickchart:hover {\n",
              "    background-color: var(--hover-bg-color);\n",
              "    box-shadow: 0 1px 2px rgba(60, 64, 67, 0.3), 0 1px 3px 1px rgba(60, 64, 67, 0.15);\n",
              "    fill: var(--button-hover-fill-color);\n",
              "  }\n",
              "\n",
              "  .colab-df-quickchart-complete:disabled,\n",
              "  .colab-df-quickchart-complete:disabled:hover {\n",
              "    background-color: var(--disabled-bg-color);\n",
              "    fill: var(--disabled-fill-color);\n",
              "    box-shadow: none;\n",
              "  }\n",
              "\n",
              "  .colab-df-spinner {\n",
              "    border: 2px solid var(--fill-color);\n",
              "    border-color: transparent;\n",
              "    border-bottom-color: var(--fill-color);\n",
              "    animation:\n",
              "      spin 1s steps(1) infinite;\n",
              "  }\n",
              "\n",
              "  @keyframes spin {\n",
              "    0% {\n",
              "      border-color: transparent;\n",
              "      border-bottom-color: var(--fill-color);\n",
              "      border-left-color: var(--fill-color);\n",
              "    }\n",
              "    20% {\n",
              "      border-color: transparent;\n",
              "      border-left-color: var(--fill-color);\n",
              "      border-top-color: var(--fill-color);\n",
              "    }\n",
              "    30% {\n",
              "      border-color: transparent;\n",
              "      border-left-color: var(--fill-color);\n",
              "      border-top-color: var(--fill-color);\n",
              "      border-right-color: var(--fill-color);\n",
              "    }\n",
              "    40% {\n",
              "      border-color: transparent;\n",
              "      border-right-color: var(--fill-color);\n",
              "      border-top-color: var(--fill-color);\n",
              "    }\n",
              "    60% {\n",
              "      border-color: transparent;\n",
              "      border-right-color: var(--fill-color);\n",
              "    }\n",
              "    80% {\n",
              "      border-color: transparent;\n",
              "      border-right-color: var(--fill-color);\n",
              "      border-bottom-color: var(--fill-color);\n",
              "    }\n",
              "    90% {\n",
              "      border-color: transparent;\n",
              "      border-bottom-color: var(--fill-color);\n",
              "    }\n",
              "  }\n",
              "</style>\n",
              "\n",
              "      <script>\n",
              "        async function quickchart(key) {\n",
              "          const quickchartButtonEl =\n",
              "            document.querySelector('#' + key + ' button');\n",
              "          quickchartButtonEl.disabled = true;  // To prevent multiple clicks.\n",
              "          quickchartButtonEl.classList.add('colab-df-spinner');\n",
              "          try {\n",
              "            const charts = await google.colab.kernel.invokeFunction(\n",
              "                'suggestCharts', [key], {});\n",
              "          } catch (error) {\n",
              "            console.error('Error during call to suggestCharts:', error);\n",
              "          }\n",
              "          quickchartButtonEl.classList.remove('colab-df-spinner');\n",
              "          quickchartButtonEl.classList.add('colab-df-quickchart-complete');\n",
              "        }\n",
              "        (() => {\n",
              "          let quickchartButtonEl =\n",
              "            document.querySelector('#df-d3268f56-f5c5-4001-972d-310b51152557 button');\n",
              "          quickchartButtonEl.style.display =\n",
              "            google.colab.kernel.accessAllowed ? 'block' : 'none';\n",
              "        })();\n",
              "      </script>\n",
              "    </div>\n",
              "\n",
              "    </div>\n",
              "  </div>\n"
            ],
            "application/vnd.google.colaboratory.intrinsic+json": {
              "type": "dataframe",
              "variable_name": "df",
              "summary": "{\n  \"name\": \"df\",\n  \"rows\": 820,\n  \"fields\": [\n    {\n      \"column\": \"url\",\n      \"properties\": {\n        \"dtype\": \"string\",\n        \"num_unique_values\": 820,\n        \"samples\": [\n          \"/content/drive/MyDrive/data23/real/file1053.wav_16k.wav_norm.wav_mono.wav_silence.wav_2sec.wav\",\n          \"/content/drive/MyDrive/data23/fake/file1990.mp3.wav_16k.wav_norm.wav_mono.wav_silence.wav_2sec.wav\",\n          \"/content/drive/MyDrive/data23/fake/file1456.mp3.wav_16k.wav_norm.wav_mono.wav_silence.wav_2sec.wav\"\n        ],\n        \"semantic_type\": \"\",\n        \"description\": \"\"\n      }\n    },\n    {\n      \"column\": \"label\",\n      \"properties\": {\n        \"dtype\": \"number\",\n        \"std\": 0,\n        \"min\": 0,\n        \"max\": 1,\n        \"num_unique_values\": 2,\n        \"samples\": [\n          1,\n          0\n        ],\n        \"semantic_type\": \"\",\n        \"description\": \"\"\n      }\n    }\n  ]\n}"
            }
          },
          "metadata": {},
          "execution_count": 17
        }
      ]
    },
    {
      "cell_type": "code",
      "source": [
        "train = df.sample(frac=0.7, random_state=7)\n"
      ],
      "metadata": {
        "id": "PQqWLc3Wbsp1"
      },
      "execution_count": null,
      "outputs": []
    },
    {
      "cell_type": "code",
      "source": [
        "test = df.drop(train.index)      # Remaining 30% after removing training data\n",
        "val = test.sample(frac=0.5, random_state=7)  # 50% of remaining becomes validation\n",
        "test = test.drop(val.index)      # Final 50% becomes test\n"
      ],
      "metadata": {
        "id": "cBFOaptubstL"
      },
      "execution_count": null,
      "outputs": []
    },
    {
      "cell_type": "code",
      "source": [
        "len(train)"
      ],
      "metadata": {
        "colab": {
          "base_uri": "https://localhost:8080/"
        },
        "id": "_MH_Q-MacBUL",
        "outputId": "2d95e1a0-0f94-4c9c-86b1-1a60dfb85105"
      },
      "execution_count": null,
      "outputs": [
        {
          "output_type": "execute_result",
          "data": {
            "text/plain": [
              "574"
            ]
          },
          "metadata": {},
          "execution_count": 20
        }
      ]
    },
    {
      "cell_type": "code",
      "source": [
        "train['label'].unique()"
      ],
      "metadata": {
        "colab": {
          "base_uri": "https://localhost:8080/"
        },
        "id": "1S1qn-1xcBXZ",
        "outputId": "02898e66-4db2-4135-8542-d640a5fd8d22"
      },
      "execution_count": null,
      "outputs": [
        {
          "output_type": "execute_result",
          "data": {
            "text/plain": [
              "array([1, 0])"
            ]
          },
          "metadata": {},
          "execution_count": 21
        }
      ]
    },
    {
      "cell_type": "code",
      "source": [
        "plt.figure(figsize=(10, 6))\n",
        "train['label'].value_counts().plot(kind='bar')\n",
        "plt.title('Class Distribution')\n",
        "plt.xlabel('Class')\n",
        "plt.ylabel('Count')\n",
        "plt.show()"
      ],
      "metadata": {
        "colab": {
          "base_uri": "https://localhost:8080/",
          "height": 559
        },
        "collapsed": true,
        "id": "j-iqKKB9WnVx",
        "outputId": "08cd3902-af01-482c-974a-296855a36397"
      },
      "execution_count": null,
      "outputs": [
        {
          "output_type": "display_data",
          "data": {
            "text/plain": [
              "<Figure size 1000x600 with 1 Axes>"
            ],
            "image/png": "[encoded data removed]"
          },
          "metadata": {}
        }
      ]
    },
    {
      "cell_type": "code",
      "source": [
        "print(\"Train Shape:\",train.shape)\n",
        "print(\"Test Shape:\",test.shape)\n",
        "print(\"Val Shape:\",val.shape)"
      ],
      "metadata": {
        "colab": {
          "base_uri": "https://localhost:8080/"
        },
        "id": "owXZpwnQcaiI",
        "outputId": "d8ea6f53-990d-444d-8c16-f1804f8f2c5e"
      },
      "execution_count": null,
      "outputs": [
        {
          "output_type": "stream",
          "name": "stdout",
          "text": [
            "Train Shape: (574, 2)\n",
            "Test Shape: (123, 2)\n",
            "Val Shape: (123, 2)\n"
          ]
        }
      ]
    },
    {
      "cell_type": "code",
      "source": [
        "class CustomAudioDataset(Dataset):\n",
        "    def __init__(self, dataframe):\n",
        "        self.dataframe = dataframe\n",
        "        self.labels=torch.Tensor(list(dataframe[\"label\"])).type(torch.LongTensor).to(device)\n",
        "        self.audios=[torch.tensor(self.get_spectrogram(url)) for url in dataframe['url']] # Changed this line\n",
        "    def __len__(self): # Corrected indentation\n",
        "        return len(self.dataframe)\n",
        "    def __getitem__(self, idx): # Corrected indentation\n",
        "        img_path=self.dataframe.iloc[idx,0]\n",
        "        label=torch.Tensor(self.labels[idx]).to(device)\n",
        "        audio = self.audios[idx].unsqueeze(0).to(device)\n",
        "        return audio, label\n",
        "    def get_spectrogram(self,url):\n",
        "        sr=22050\n",
        "        duration=10\n",
        "        img_height=224\n",
        "        img_width=224\n",
        "        signal,sr=librosa.load(url,sr=sr,duration=duration)\n",
        "        spec=librosa.feature.melspectrogram(y=signal,sr=sr,n_fft=2048,hop_length=512,n_mels=128)\n",
        "        spec_db=librosa.power_to_db(spec,ref=np.max)\n",
        "        spec_resized=librosa.util.fix_length(spec_db,size=(duration*sr)//512+1)\n",
        "        spec_resized=resize(spec_resized,(img_height,img_width),anti_aliasing=True)\n",
        "        return spec_resized"
      ],
      "metadata": {
        "id": "-WK1IVn4cali"
      },
      "execution_count": null,
      "outputs": []
    },
    {
      "cell_type": "code",
      "source": [
        "train_dataset=CustomAudioDataset(dataframe=train)\n",
        "test_dataset=CustomAudioDataset(dataframe=test)\n",
        "val_dataset=CustomAudioDataset(dataframe=val)"
      ],
      "metadata": {
        "id": "IZW96QGkcao9"
      },
      "execution_count": null,
      "outputs": []
    },
    {
      "cell_type": "code",
      "source": [
        "class Net(nn.Module):\n",
        "    def __init__(self, output_dim):\n",
        "        super(Net, self).__init__()\n",
        "        self.conv1 = nn.Conv2d(1, 16, kernel_size=3, padding=1)\n",
        "        self.conv2 = nn.Conv2d(16, 32, kernel_size=3, padding=1)\n",
        "        self.conv3 = nn.Conv2d(32, 64, kernel_size=3, padding=1)\n",
        "        self.pool = nn.MaxPool2d(kernel_size=2, stride=2)\n",
        "        self.relu = nn.ReLU()\n",
        "        self.flatten = nn.Flatten()\n",
        "        self.linear1 = nn.Linear(64 * 28 * 28, 4096)\n",
        "        self.linear2 = nn.Linear(4096, 1024)\n",
        "        self.linear3 = nn.Linear(1024, 512)\n",
        "        self.output = nn.Linear(512, output_dim)  # <--- Accept dynamic output_dim\n",
        "        self.dropout = nn.Dropout(0.5)\n",
        "\n",
        "    def forward(self, x):\n",
        "        x = self.conv1(x)\n",
        "        x = self.pool(x)\n",
        "        x = self.conv2(x)\n",
        "        x = self.pool(x)\n",
        "        x = self.conv3(x)\n",
        "        x = self.pool(x)\n",
        "        x = self.relu(x)\n",
        "        x = self.flatten(x)\n",
        "        x = self.linear1(x)\n",
        "        x = self.dropout(x)\n",
        "        x = self.linear2(x)\n",
        "        x = self.dropout(x)\n",
        "        x = self.linear3(x)\n",
        "        x = self.dropout(x)\n",
        "        x = self.output(x)\n",
        "        return x\n"
      ],
      "metadata": {
        "id": "9Vymp843ca0V"
      },
      "execution_count": null,
      "outputs": []
    },
    {
      "cell_type": "code",
      "source": [],
      "metadata": {
        "id": "bFo4IL4hfqPx"
      },
      "execution_count": null,
      "outputs": []
    },
    {
      "cell_type": "code",
      "source": [
        "# ---- Hyperparameter Tuning ----\n",
        "import itertools\n",
        "\n",
        "learning_rates = [1e-3, 1e-4]\n",
        "batch_sizes = [16, 32]\n",
        "epoch_options = [10, 25]"
      ],
      "metadata": {
        "id": "EWIZ4Wc9ca3o"
      },
      "execution_count": null,
      "outputs": []
    },
    {
      "cell_type": "code",
      "source": [
        "best_val_acc = 0\n",
        "best_hyperparams = {}"
      ],
      "metadata": {
        "id": "PLsJ0jHVe3sL"
      },
      "execution_count": null,
      "outputs": []
    },
    {
      "cell_type": "code",
      "source": [
        "for lr, batch_size, epochs in itertools.product(learning_rates, batch_sizes, epoch_options):\n",
        "    print(f\"\\n🔍 Trying LR={lr}, Batch Size={batch_size}, Epochs={epochs}\")\n",
        "\n",
        "    train_loader = DataLoader(train_dataset, batch_size=batch_size, shuffle=True)\n",
        "    val_loader = DataLoader(val_dataset, batch_size=batch_size, shuffle=False)\n",
        "\n",
        "    model = Net(output_dim=len(df[\"label\"].unique())).to(device)\n",
        "    criterion = nn.CrossEntropyLoss()\n",
        "    optimizer = Adam(model.parameters(), lr=lr)\n",
        "\n",
        "    for epoch in range(epochs):\n",
        "        model.train()\n",
        "        for inputs, labels in train_loader:\n",
        "            outputs = model(inputs)\n",
        "            loss = criterion(outputs, labels)\n",
        "            optimizer.zero_grad()\n",
        "            loss.backward()\n",
        "            optimizer.step()\n",
        "\n",
        "    model.eval()\n",
        "    correct = 0\n",
        "    total = 0\n",
        "    with torch.no_grad():\n",
        "        for inputs, labels in val_loader:\n",
        "            outputs = model(inputs)\n",
        "            predicted = torch.argmax(outputs, axis=1)\n",
        "            total += labels.size(0)\n",
        "            correct += (predicted == labels).sum().item()\n",
        "    val_acc = (correct / total) * 100\n",
        "    print(f\"✅ Validation Accuracy = {val_acc:.2f}%\")\n",
        "\n",
        "    if val_acc > best_val_acc:\n",
        "        best_val_acc = val_acc\n",
        "        best_hyperparams = {'learning_rate': lr, 'batch_size': batch_size, 'epochs': epochs}"
      ],
      "metadata": {
        "colab": {
          "base_uri": "https://localhost:8080/"
        },
        "id": "kyvfoxhTe3ua",
        "outputId": "5aecfaa6-37ce-4f38-bf51-db417d28a5a0"
      },
      "execution_count": null,
      "outputs": [
        {
          "output_type": "stream",
          "name": "stdout",
          "text": [
            "\n",
            "🔍 Trying LR=0.001, Batch Size=16, Epochs=10\n",
            "✅ Validation Accuracy = 49.59%\n",
            "\n",
            "🔍 Trying LR=0.001, Batch Size=16, Epochs=25\n",
            "✅ Validation Accuracy = 61.79%\n",
            "\n",
            "🔍 Trying LR=0.001, Batch Size=32, Epochs=10\n",
            "✅ Validation Accuracy = 54.47%\n",
            "\n",
            "🔍 Trying LR=0.001, Batch Size=32, Epochs=25\n",
            "✅ Validation Accuracy = 69.92%\n",
            "\n",
            "🔍 Trying LR=0.0001, Batch Size=16, Epochs=10\n",
            "✅ Validation Accuracy = 86.99%\n",
            "\n",
            "🔍 Trying LR=0.0001, Batch Size=16, Epochs=25\n"
          ]
        }
      ]
    },
    {
      "cell_type": "code",
      "source": [
        "print(\"\\n🏆 Best Hyperparameters Found:\")\n",
        "print(best_hyperparams)\n",
        "print(f\"Best Validation Accuracy: {best_val_acc:.2f}%\")"
      ],
      "metadata": {
        "id": "ryEkg1cre3xG"
      },
      "execution_count": null,
      "outputs": []
    },
    {
      "cell_type": "code",
      "source": [],
      "metadata": {
        "id": "XBffuwETe3zd"
      },
      "execution_count": null,
      "outputs": []
    },
    {
      "cell_type": "code",
      "source": [
        "# 1. Define the model\n",
        "model = Net(output_dim=len(df[\"label\"].unique())).to(device)\n",
        "print(model)"
      ],
      "metadata": {
        "colab": {
          "base_uri": "https://localhost:8080/"
        },
        "id": "sFWl1J9ge32-",
        "outputId": "6bd33483-5277-43dd-ffa1-db01799fd72d"
      },
      "execution_count": null,
      "outputs": [
        {
          "output_type": "stream",
          "name": "stdout",
          "text": [
            "Net(\n",
            "  (conv1): Conv2d(1, 16, kernel_size=(3, 3), stride=(1, 1), padding=(1, 1))\n",
            "  (conv2): Conv2d(16, 32, kernel_size=(3, 3), stride=(1, 1), padding=(1, 1))\n",
            "  (conv3): Conv2d(32, 64, kernel_size=(3, 3), stride=(1, 1), padding=(1, 1))\n",
            "  (pool): MaxPool2d(kernel_size=2, stride=2, padding=0, dilation=1, ceil_mode=False)\n",
            "  (relu): ReLU()\n",
            "  (flatten): Flatten(start_dim=1, end_dim=-1)\n",
            "  (linear1): Linear(in_features=50176, out_features=4096, bias=True)\n",
            "  (linear2): Linear(in_features=4096, out_features=1024, bias=True)\n",
            "  (linear3): Linear(in_features=1024, out_features=512, bias=True)\n",
            "  (output): Linear(in_features=512, out_features=2, bias=True)\n",
            "  (dropout): Dropout(p=0.5, inplace=False)\n",
            ")\n"
          ]
        }
      ]
    },
    {
      "cell_type": "code",
      "source": [
        "# 2. Define the loss function and optimizer\n",
        "criterion = nn.CrossEntropyLoss()\n",
        "optimizer = Adam(model.parameters(), lr=0.0001)"
      ],
      "metadata": {
        "id": "OGq9QgRRf8eI"
      },
      "execution_count": null,
      "outputs": []
    },
    {
      "cell_type": "code",
      "source": [
        "# # 3. Create DataLoaders\n",
        "# train_loader = DataLoader(train_dataset, batch_size=16, shuffle=True)\n",
        "# val_loader = DataLoader(val_dataset, batch_size=16, shuffle=False)\n",
        "# test_loader = DataLoader(test_dataset, batch_size=16, shuffle=False)\n",
        "\n",
        "# 3. Create DataLoaders\n",
        "train_loader = DataLoader(train_dataset, batch_size=32, shuffle=True)\n",
        "val_loader = DataLoader(val_dataset, batch_size=32, shuffle=False)\n",
        "test_loader = DataLoader(test_dataset, batch_size=32, shuffle=False)"
      ],
      "metadata": {
        "id": "WYvhNZzKf8g6"
      },
      "execution_count": null,
      "outputs": []
    },
    {
      "cell_type": "code",
      "source": [
        "# 4. For plotting\n",
        "total_loss_train_plot = []\n",
        "total_loss_validation_plot = []\n",
        "total_acc_train_plot = []\n",
        "total_acc_validation_plot = []"
      ],
      "metadata": {
        "id": "VbFxO8x4f8kE"
      },
      "execution_count": null,
      "outputs": []
    },
    {
      "cell_type": "code",
      "source": [
        "# 5. Train the model\n",
        "EPOCHS = 30"
      ],
      "metadata": {
        "id": "in-CwakHf8ma"
      },
      "execution_count": null,
      "outputs": []
    },
    {
      "cell_type": "code",
      "source": [
        "for epoch in range(EPOCHS):\n",
        "    model.train()\n",
        "    total_acc_train = 0\n",
        "    total_loss_train = 0\n",
        "    total_loss_val = 0\n",
        "    total_acc_val = 0\n",
        "\n",
        "    for inputs, labels in train_loader:\n",
        "        inputs, labels = inputs.to(device), labels.to(device)\n",
        "\n",
        "        outputs = model(inputs)\n",
        "        loss = criterion(outputs, labels)\n",
        "\n",
        "        optimizer.zero_grad()\n",
        "        loss.backward()\n",
        "        optimizer.step()\n",
        "\n",
        "        total_loss_train += loss.item()\n",
        "        total_acc_train += (torch.argmax(outputs, axis=1) == labels).sum().item()\n",
        "\n",
        "    model.eval()\n",
        "    with torch.no_grad():\n",
        "        for inputs, labels in val_loader:\n",
        "            inputs, labels = inputs.to(device), labels.to(device)\n",
        "\n",
        "            outputs = model(inputs)\n",
        "            val_loss = criterion(outputs, labels)\n",
        "\n",
        "            total_loss_val += val_loss.item()\n",
        "            total_acc_val += (torch.argmax(outputs, axis=1) == labels).sum().item()\n",
        "\n",
        "    total_loss_train_plot.append(round(total_loss_train / len(train_loader), 4))\n",
        "    total_loss_validation_plot.append(round(total_loss_val / len(val_loader), 4))\n",
        "    total_acc_train_plot.append(round(total_acc_train / len(train_dataset) * 100, 4))\n",
        "    total_acc_validation_plot.append(round(total_acc_val / len(val_dataset) * 100, 4))\n",
        "\n",
        "    print(f\"\"\"\n",
        "    Epoch {epoch+1}/{EPOCHS}\n",
        "    Train Loss: {round(total_loss_train/len(train_loader), 4)}\n",
        "    Train Accuracy: {round((total_acc_train/len(train_dataset)) * 100, 2)}%\n",
        "    Validation Loss: {round(total_loss_val/len(val_loader), 4)}\n",
        "    Validation Accuracy: {round((total_acc_val/len(val_dataset)) * 100, 2)}%\n",
        "    \"\"\")\n",
        "    print(\"=\" * 50)"
      ],
      "metadata": {
        "colab": {
          "base_uri": "https://localhost:8080/"
        },
        "collapsed": true,
        "id": "kGJCXiBRgIPM",
        "outputId": "c0ca8ce0-2a88-419d-f833-5a56e9024761"
      },
      "execution_count": null,
      "outputs": [
        {
          "output_type": "stream",
          "name": "stdout",
          "text": [
            "\n",
            "    Epoch 1/30\n",
            "    Train Loss: 8.9234\n",
            "    Train Accuracy: 48.43%\n",
            "    Validation Loss: 4.3509\n",
            "    Validation Accuracy: 45.53%\n",
            "    \n",
            "==================================================\n",
            "\n",
            "    Epoch 2/30\n",
            "    Train Loss: 3.0788\n",
            "    Train Accuracy: 50.0%\n",
            "    Validation Loss: 0.6923\n",
            "    Validation Accuracy: 54.47%\n",
            "    \n",
            "==================================================\n",
            "\n",
            "    Epoch 3/30\n",
            "    Train Loss: 1.0562\n",
            "    Train Accuracy: 51.05%\n",
            "    Validation Loss: 0.6624\n",
            "    Validation Accuracy: 59.35%\n",
            "    \n",
            "==================================================\n",
            "\n",
            "    Epoch 4/30\n",
            "    Train Loss: 0.721\n",
            "    Train Accuracy: 57.84%\n",
            "    Validation Loss: 0.6321\n",
            "    Validation Accuracy: 66.67%\n",
            "    \n",
            "==================================================\n",
            "\n",
            "    Epoch 5/30\n",
            "    Train Loss: 0.6462\n",
            "    Train Accuracy: 61.85%\n",
            "    Validation Loss: 0.6062\n",
            "    Validation Accuracy: 61.79%\n",
            "    \n",
            "==================================================\n",
            "\n",
            "    Epoch 6/30\n",
            "    Train Loss: 0.6762\n",
            "    Train Accuracy: 59.58%\n",
            "    Validation Loss: 0.6312\n",
            "    Validation Accuracy: 56.91%\n",
            "    \n",
            "==================================================\n",
            "\n",
            "    Epoch 7/30\n",
            "    Train Loss: 0.6274\n",
            "    Train Accuracy: 63.94%\n",
            "    Validation Loss: 0.5843\n",
            "    Validation Accuracy: 69.11%\n",
            "    \n",
            "==================================================\n",
            "\n",
            "    Epoch 8/30\n",
            "    Train Loss: 0.5821\n",
            "    Train Accuracy: 66.55%\n",
            "    Validation Loss: 0.5345\n",
            "    Validation Accuracy: 75.61%\n",
            "    \n",
            "==================================================\n",
            "\n",
            "    Epoch 9/30\n",
            "    Train Loss: 0.5178\n",
            "    Train Accuracy: 74.22%\n",
            "    Validation Loss: 0.4918\n",
            "    Validation Accuracy: 76.42%\n",
            "    \n",
            "==================================================\n",
            "\n",
            "    Epoch 10/30\n",
            "    Train Loss: 0.4855\n",
            "    Train Accuracy: 75.44%\n",
            "    Validation Loss: 0.4632\n",
            "    Validation Accuracy: 79.67%\n",
            "    \n",
            "==================================================\n",
            "\n",
            "    Epoch 11/30\n",
            "    Train Loss: 0.4777\n",
            "    Train Accuracy: 78.75%\n",
            "    Validation Loss: 0.5794\n",
            "    Validation Accuracy: 66.67%\n",
            "    \n",
            "==================================================\n",
            "\n",
            "    Epoch 12/30\n",
            "    Train Loss: 0.4345\n",
            "    Train Accuracy: 79.79%\n",
            "    Validation Loss: 0.5466\n",
            "    Validation Accuracy: 71.54%\n",
            "    \n",
            "==================================================\n",
            "\n",
            "    Epoch 13/30\n",
            "    Train Loss: 0.4196\n",
            "    Train Accuracy: 81.53%\n",
            "    Validation Loss: 0.4337\n",
            "    Validation Accuracy: 79.67%\n",
            "    \n",
            "==================================================\n",
            "\n",
            "    Epoch 14/30\n",
            "    Train Loss: 0.3626\n",
            "    Train Accuracy: 84.15%\n",
            "    Validation Loss: 0.4312\n",
            "    Validation Accuracy: 82.93%\n",
            "    \n",
            "==================================================\n",
            "\n",
            "    Epoch 15/30\n",
            "    Train Loss: 0.3304\n",
            "    Train Accuracy: 85.19%\n",
            "    Validation Loss: 0.4076\n",
            "    Validation Accuracy: 82.93%\n",
            "    \n",
            "==================================================\n",
            "\n",
            "    Epoch 16/30\n",
            "    Train Loss: 0.3108\n",
            "    Train Accuracy: 86.06%\n",
            "    Validation Loss: 0.5761\n",
            "    Validation Accuracy: 73.98%\n",
            "    \n",
            "==================================================\n",
            "\n",
            "    Epoch 17/30\n",
            "    Train Loss: 0.2885\n",
            "    Train Accuracy: 88.68%\n",
            "    Validation Loss: 0.441\n",
            "    Validation Accuracy: 78.86%\n",
            "    \n",
            "==================================================\n",
            "\n",
            "    Epoch 18/30\n",
            "    Train Loss: 0.2977\n",
            "    Train Accuracy: 87.28%\n",
            "    Validation Loss: 0.4798\n",
            "    Validation Accuracy: 75.61%\n",
            "    \n",
            "==================================================\n",
            "\n",
            "    Epoch 19/30\n",
            "    Train Loss: 0.2267\n",
            "    Train Accuracy: 91.81%\n",
            "    Validation Loss: 0.4051\n",
            "    Validation Accuracy: 79.67%\n",
            "    \n",
            "==================================================\n",
            "\n",
            "    Epoch 20/30\n",
            "    Train Loss: 0.2081\n",
            "    Train Accuracy: 91.64%\n",
            "    Validation Loss: 0.3873\n",
            "    Validation Accuracy: 86.18%\n",
            "    \n",
            "==================================================\n",
            "\n",
            "    Epoch 21/30\n",
            "    Train Loss: 0.2046\n",
            "    Train Accuracy: 92.68%\n",
            "    Validation Loss: 0.4126\n",
            "    Validation Accuracy: 81.3%\n",
            "    \n",
            "==================================================\n",
            "\n",
            "    Epoch 22/30\n",
            "    Train Loss: 0.1651\n",
            "    Train Accuracy: 94.43%\n",
            "    Validation Loss: 0.436\n",
            "    Validation Accuracy: 82.93%\n",
            "    \n",
            "==================================================\n",
            "\n",
            "    Epoch 23/30\n",
            "    Train Loss: 0.1398\n",
            "    Train Accuracy: 95.64%\n",
            "    Validation Loss: 0.3841\n",
            "    Validation Accuracy: 87.8%\n",
            "    \n",
            "==================================================\n",
            "\n",
            "    Epoch 24/30\n",
            "    Train Loss: 0.1027\n",
            "    Train Accuracy: 97.39%\n",
            "    Validation Loss: 0.4244\n",
            "    Validation Accuracy: 82.93%\n",
            "    \n",
            "==================================================\n",
            "\n",
            "    Epoch 25/30\n",
            "    Train Loss: 0.1076\n",
            "    Train Accuracy: 97.04%\n",
            "    Validation Loss: 0.3868\n",
            "    Validation Accuracy: 83.74%\n",
            "    \n",
            "==================================================\n",
            "\n",
            "    Epoch 26/30\n",
            "    Train Loss: 0.0904\n",
            "    Train Accuracy: 98.08%\n",
            "    Validation Loss: 0.4377\n",
            "    Validation Accuracy: 85.37%\n",
            "    \n",
            "==================================================\n",
            "\n",
            "    Epoch 27/30\n",
            "    Train Loss: 0.0702\n",
            "    Train Accuracy: 98.26%\n",
            "    Validation Loss: 0.4238\n",
            "    Validation Accuracy: 86.18%\n",
            "    \n",
            "==================================================\n",
            "\n",
            "    Epoch 28/30\n",
            "    Train Loss: 0.0569\n",
            "    Train Accuracy: 98.43%\n",
            "    Validation Loss: 0.427\n",
            "    Validation Accuracy: 82.93%\n",
            "    \n",
            "==================================================\n",
            "\n",
            "    Epoch 29/30\n",
            "    Train Loss: 0.035\n",
            "    Train Accuracy: 98.95%\n",
            "    Validation Loss: 0.4225\n",
            "    Validation Accuracy: 88.62%\n",
            "    \n",
            "==================================================\n",
            "\n",
            "    Epoch 30/30\n",
            "    Train Loss: 0.0309\n",
            "    Train Accuracy: 99.48%\n",
            "    Validation Loss: 0.3992\n",
            "    Validation Accuracy: 87.8%\n",
            "    \n",
            "==================================================\n"
          ]
        }
      ]
    },
    {
      "cell_type": "code",
      "source": [
        "# 6. Evaluate on the test set\n",
        "model.eval()\n",
        "total_acc_test = 0\n",
        "with torch.no_grad():\n",
        "    for inputs, labels in test_loader:\n",
        "        inputs, labels = inputs.to(device), labels.to(device)\n",
        "\n",
        "        outputs = model(inputs)\n",
        "        predicted = torch.argmax(outputs, axis=1)\n",
        "        total_acc_test += (predicted == labels).sum().item()\n",
        "\n",
        "test_accuracy = round((total_acc_test / len(test_dataset)) * 100, 2)\n",
        "print(f\"✅ Test Accuracy = {test_accuracy}%\")\n"
      ],
      "metadata": {
        "colab": {
          "base_uri": "https://localhost:8080/"
        },
        "id": "Gjk3_7aVgISm",
        "outputId": "7d9ceb71-be45-4ef0-ce01-6c70777581c3"
      },
      "execution_count": null,
      "outputs": [
        {
          "output_type": "stream",
          "name": "stdout",
          "text": [
            "✅ Test Accuracy = 83.74%\n"
          ]
        }
      ]
    },
    {
      "cell_type": "code",
      "source": [
        "# 7. Plot the loss and accuracy curves\n",
        "import matplotlib.pyplot as plt\n",
        "\n",
        "fig, axs = plt.subplots(1, 2, figsize=(15, 5))\n",
        "\n",
        "# Loss plot\n",
        "axs[0].plot(total_loss_train_plot, label='Training Loss')\n",
        "axs[0].plot(total_loss_validation_plot, label='Validation Loss')\n",
        "axs[0].set_title('Loss over Epochs')\n",
        "axs[0].set_xlabel('Epochs')\n",
        "axs[0].set_ylabel('Loss')\n",
        "axs[0].legend()\n"
      ],
      "metadata": {
        "colab": {
          "base_uri": "https://localhost:8080/",
          "height": 459
        },
        "collapsed": true,
        "id": "zQav8i6ogIgU",
        "outputId": "216868d2-6edc-4aed-fb05-7b17df27e8a8"
      },
      "execution_count": null,
      "outputs": [
        {
          "output_type": "execute_result",
          "data": {
            "text/plain": [
              "<matplotlib.legend.Legend at 0x7dc3a0586310>"
            ]
          },
          "metadata": {},
          "execution_count": 58
        },
        {
          "output_type": "display_data",
          "data": {
            "text/plain": [
              "<Figure size 1500x500 with 2 Axes>"
            ],
            "image/png": "[encoded data removed]"
          },
          "metadata": {}
        }
      ]
    },
    {
      "cell_type": "code",
      "source": [
        "# Accuracy plot\n",
        "axs[1].plot(total_acc_train_plot, label='Training Accuracy')\n",
        "axs[1].plot(total_acc_validation_plot, label='Validation Accuracy')\n",
        "axs[1].set_title('Accuracy over Epochs')\n",
        "axs[1].set_xlabel('Epochs')\n",
        "axs[1].set_ylabel('Accuracy (%)')\n",
        "axs[1].legend()\n",
        "\n",
        "plt.tight_layout()\n",
        "plt.show()"
      ],
      "metadata": {
        "colab": {
          "base_uri": "https://localhost:8080/",
          "height": 34
        },
        "collapsed": true,
        "id": "PbOq6rvff8o1",
        "outputId": "f781f69d-7cca-47db-c065-5a63ba1e1916"
      },
      "execution_count": null,
      "outputs": [
        {
          "output_type": "display_data",
          "data": {
            "text/plain": [
              "<Figure size 640x480 with 0 Axes>"
            ]
          },
          "metadata": {}
        }
      ]
    },
    {
      "cell_type": "code",
      "source": [
        "# Save the trained model\n",
        "torch.save(model.state_dict(), \"audio_classification_model.pth\")\n",
        "print(\"✅ Model saved as audio_classification_model.pth\")\n"
      ],
      "metadata": {
        "colab": {
          "base_uri": "https://localhost:8080/"
        },
        "id": "j_A87zASf8rc",
        "outputId": "bc5a2bd4-1b6b-4eae-8486-4db748ced692"
      },
      "execution_count": null,
      "outputs": [
        {
          "output_type": "stream",
          "name": "stdout",
          "text": [
            "✅ Model saved as audio_classification_model.pth\n"
          ]
        }
      ]
    },
    {
      "cell_type": "code",
      "source": [
        "# Define the same model architecture\n",
        "class Net(nn.Module):\n",
        "    def __init__(self):\n",
        "        super(Net, self).__init__()\n",
        "        self.conv1 = nn.Conv2d(1, 16, kernel_size=3, padding=1)\n",
        "        self.conv2 = nn.Conv2d(16, 32, kernel_size=3, padding=1)\n",
        "        self.conv3 = nn.Conv2d(32, 64, kernel_size=3, padding=1)\n",
        "        self.pool = nn.MaxPool2d(kernel_size=2, stride=2)\n",
        "        self.relu = nn.ReLU()\n",
        "        self.flatten = nn.Flatten()\n",
        "        self.linear1 = nn.Linear(64 * 28 * 28, 4096)  # match training input shape\n",
        "        self.linear2 = nn.Linear(4096, 1024)\n",
        "        self.linear3 = nn.Linear(1024, 512)\n",
        "        self.output = nn.Linear(512, 2)  # 2 classes: real or fake\n",
        "        self.dropout = nn.Dropout(0.5)\n",
        "\n",
        "    def forward(self, x):\n",
        "        x = self.conv1(x)\n",
        "        x = self.pool(x)\n",
        "        x = self.conv2(x)\n",
        "        x = self.pool(x)\n",
        "        x = self.conv3(x)\n",
        "        x = self.pool(x)\n",
        "        x = self.relu(x)\n",
        "        x = self.flatten(x)\n",
        "        x = self.linear1(x)\n",
        "        x = self.dropout(x)\n",
        "        x = self.linear2(x)\n",
        "        x = self.dropout(x)\n",
        "        x = self.linear3(x)\n",
        "        x = self.dropout(x)\n",
        "        x = self.output(x)\n",
        "        return x"
      ],
      "metadata": {
        "id": "LzW9QKBhhs3t"
      },
      "execution_count": null,
      "outputs": []
    },
    {
      "cell_type": "code",
      "source": [
        "# Load the trained model\n",
        "model = Net().to(device)\n",
        "model.load_state_dict(torch.load(\"audio_classification_model.pth\", map_location=device))\n",
        "model.eval()"
      ],
      "metadata": {
        "colab": {
          "base_uri": "https://localhost:8080/"
        },
        "collapsed": true,
        "id": "2bLJ7Rjtf8tz",
        "outputId": "d7dbd3fa-6c75-4f0f-d224-fcc3c7ced5a4"
      },
      "execution_count": null,
      "outputs": [
        {
          "output_type": "execute_result",
          "data": {
            "text/plain": [
              "Net(\n",
              "  (conv1): Conv2d(1, 16, kernel_size=(3, 3), stride=(1, 1), padding=(1, 1))\n",
              "  (conv2): Conv2d(16, 32, kernel_size=(3, 3), stride=(1, 1), padding=(1, 1))\n",
              "  (conv3): Conv2d(32, 64, kernel_size=(3, 3), stride=(1, 1), padding=(1, 1))\n",
              "  (pool): MaxPool2d(kernel_size=2, stride=2, padding=0, dilation=1, ceil_mode=False)\n",
              "  (relu): ReLU()\n",
              "  (flatten): Flatten(start_dim=1, end_dim=-1)\n",
              "  (linear1): Linear(in_features=50176, out_features=4096, bias=True)\n",
              "  (linear2): Linear(in_features=4096, out_features=1024, bias=True)\n",
              "  (linear3): Linear(in_features=1024, out_features=512, bias=True)\n",
              "  (output): Linear(in_features=512, out_features=2, bias=True)\n",
              "  (dropout): Dropout(p=0.5, inplace=False)\n",
              ")"
            ]
          },
          "metadata": {},
          "execution_count": 62
        }
      ]
    },
    {
      "cell_type": "code",
      "source": [
        "# Function to generate spectrogram\n",
        "def get_mel_spectrogram(wav_path):\n",
        "    sr = 22050\n",
        "    duration = 10\n",
        "    img_height = 224\n",
        "    img_width = 224\n",
        "    signal, sr = librosa.load(wav_path, sr=sr, duration=duration)\n",
        "    spec = librosa.feature.melspectrogram(y=signal, sr=sr, n_fft=2048, hop_length=512, n_mels=128)\n",
        "    spec_db = librosa.power_to_db(spec, ref=np.max)\n",
        "    spec_resized = librosa.util.fix_length(spec_db, size=(duration * sr)//512 + 1)\n",
        "    spec_resized = resize(spec_resized, (img_height, img_width), anti_aliasing=True)\n",
        "    return spec_resized"
      ],
      "metadata": {
        "id": "8-loekDvf8x1"
      },
      "execution_count": null,
      "outputs": []
    },
    {
      "cell_type": "code",
      "source": [
        "# Function to predict from a .wav file\n",
        "def predict_audio(wav_path):\n",
        "    spectrogram = get_mel_spectrogram(wav_path)\n",
        "    spectrogram_tensor = torch.tensor(spectrogram).unsqueeze(0).unsqueeze(0).float().to(device)  # (batch, channel, H, W)\n",
        "\n",
        "    with torch.no_grad():\n",
        "        output = model(spectrogram_tensor)\n",
        "        pred = torch.argmax(output, axis=1).item()\n",
        "\n",
        "    label_map = {0: 'Real', 1: 'Fake'}\n",
        "    predicted_label = label_map[pred]\n",
        "\n",
        "    # Show the spectrogram\n",
        "    plt.figure(figsize=(10, 4))\n",
        "    librosa.display.specshow(spectrogram, sr=22050, hop_length=512, x_axis='time', y_axis='mel')\n",
        "    plt.colorbar(format='%+2.0f dB')\n",
        "    plt.title(f\"Predicted: {predicted_label}\")\n",
        "    plt.tight_layout()\n",
        "    plt.show()\n",
        "\n",
        "    print(f\"🎯 Predicted Label: {predicted_label}\")"
      ],
      "metadata": {
        "id": "u4tJutMrhyh-"
      },
      "execution_count": null,
      "outputs": []
    },
    {
      "cell_type": "code",
      "source": [
        "# Example Usage\n",
        "wav_path = \"/content/file367.mp3.wav_16k.wav_norm.wav_mono.wav_silence.wav_2sec.wav\"  # Replace with your .wav file path\n",
        "predict_audio(wav_path)"
      ],
      "metadata": {
        "colab": {
          "base_uri": "https://localhost:8080/",
          "height": 424
        },
        "id": "TN2QCrDzhykn",
        "outputId": "68d4eed2-6138-48d5-84a7-a23819ca57fb"
      },
      "execution_count": null,
      "outputs": [
        {
          "output_type": "display_data",
          "data": {
            "text/plain": [
              "<Figure size 1000x400 with 2 Axes>"
            ],
            "image/png": "[encoded data removed]"
          },
          "metadata": {}
        },
        {
          "output_type": "stream",
          "name": "stdout",
          "text": [
            "🎯 Predicted Label: Real\n"
          ]
        }
      ]
    },
    {
      "cell_type": "code",
      "source": [],
      "metadata": {
        "id": "zfSPxvUThynH"
      },
      "execution_count": null,
      "outputs": []
    },
    {
      "cell_type": "code",
      "source": [],
      "metadata": {
        "id": "kKti5rkwhyq1"
      },
      "execution_count": null,
      "outputs": []
    }
  ]
}